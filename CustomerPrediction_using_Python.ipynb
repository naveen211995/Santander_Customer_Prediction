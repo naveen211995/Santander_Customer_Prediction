{
  "nbformat": 4,
  "nbformat_minor": 0,
  "metadata": {
    "colab": {
      "name": "CustomerPrediction_Edwisor_1.ipynb",
      "provenance": [],
      "collapsed_sections": []
    },
    "kernelspec": {
      "name": "python3",
      "display_name": "Python 3"
    },
    "accelerator": "GPU"
  },
  "cells": [
    {
      "cell_type": "code",
      "metadata": {
        "id": "1HfRSWw09eR4",
        "colab_type": "code",
        "colab": {
          "base_uri": "https://localhost:8080/",
          "height": 35
        },
        "outputId": "bd511447-03ce-43ae-9ad3-ac3ca0608c8e"
      },
      "source": [
        "#Verifying GPU...\n",
        "import tensorflow as tf\n",
        "tf.test.gpu_device_name()"
      ],
      "execution_count": null,
      "outputs": [
        {
          "output_type": "execute_result",
          "data": {
            "text/plain": [
              "'/device:GPU:0'"
            ]
          },
          "metadata": {
            "tags": []
          },
          "execution_count": 1
        }
      ]
    },
    {
      "cell_type": "code",
      "metadata": {
        "id": "ggK-Me-Q5QxP",
        "colab_type": "code",
        "colab": {}
      },
      "source": [
        "#Downloading the dataset...\n",
        "!wget 'https://www.dropbox.com/s/g7fw12c85f900x4/train.csv'\n",
        "!wget 'https://www.dropbox.com/s/qo0pxbun34twmrh/test.csv'"
      ],
      "execution_count": null,
      "outputs": []
    },
    {
      "cell_type": "markdown",
      "metadata": {
        "id": "ahrkWf8s_Ab7",
        "colab_type": "text"
      },
      "source": [
        "### **Data Gathering**"
      ]
    },
    {
      "cell_type": "code",
      "metadata": {
        "id": "MMG3O5Y_8ixj",
        "colab_type": "code",
        "colab": {}
      },
      "source": [
        "#Importing required packages...\n",
        "import numpy as np\n",
        "import pandas as pd"
      ],
      "execution_count": null,
      "outputs": []
    },
    {
      "cell_type": "code",
      "metadata": {
        "id": "Xb85BPc_8yzU",
        "colab_type": "code",
        "colab": {}
      },
      "source": [
        "#Reading the Train and Test file.\n",
        "train_file= pd.read_csv('/content/train.csv')\n",
        "test_file= pd.read_csv('/content/test.csv')"
      ],
      "execution_count": null,
      "outputs": []
    },
    {
      "cell_type": "code",
      "metadata": {
        "id": "r2ziZ2o29b6r",
        "colab_type": "code",
        "colab": {
          "base_uri": "https://localhost:8080/",
          "height": 255
        },
        "outputId": "1629d440-addb-49dd-e3aa-615526de133c"
      },
      "source": [
        "train_file.head()"
      ],
      "execution_count": null,
      "outputs": [
        {
          "output_type": "execute_result",
          "data": {
            "text/html": [
              "<div>\n",
              "<style scoped>\n",
              "    .dataframe tbody tr th:only-of-type {\n",
              "        vertical-align: middle;\n",
              "    }\n",
              "\n",
              "    .dataframe tbody tr th {\n",
              "        vertical-align: top;\n",
              "    }\n",
              "\n",
              "    .dataframe thead th {\n",
              "        text-align: right;\n",
              "    }\n",
              "</style>\n",
              "<table border=\"1\" class=\"dataframe\">\n",
              "  <thead>\n",
              "    <tr style=\"text-align: right;\">\n",
              "      <th></th>\n",
              "      <th>ID_code</th>\n",
              "      <th>target</th>\n",
              "      <th>var_0</th>\n",
              "      <th>var_1</th>\n",
              "      <th>var_2</th>\n",
              "      <th>var_3</th>\n",
              "      <th>var_4</th>\n",
              "      <th>var_5</th>\n",
              "      <th>var_6</th>\n",
              "      <th>var_7</th>\n",
              "      <th>var_8</th>\n",
              "      <th>var_9</th>\n",
              "      <th>var_10</th>\n",
              "      <th>var_11</th>\n",
              "      <th>var_12</th>\n",
              "      <th>var_13</th>\n",
              "      <th>var_14</th>\n",
              "      <th>var_15</th>\n",
              "      <th>var_16</th>\n",
              "      <th>var_17</th>\n",
              "      <th>var_18</th>\n",
              "      <th>var_19</th>\n",
              "      <th>var_20</th>\n",
              "      <th>var_21</th>\n",
              "      <th>var_22</th>\n",
              "      <th>var_23</th>\n",
              "      <th>var_24</th>\n",
              "      <th>var_25</th>\n",
              "      <th>var_26</th>\n",
              "      <th>var_27</th>\n",
              "      <th>var_28</th>\n",
              "      <th>var_29</th>\n",
              "      <th>var_30</th>\n",
              "      <th>var_31</th>\n",
              "      <th>var_32</th>\n",
              "      <th>var_33</th>\n",
              "      <th>var_34</th>\n",
              "      <th>var_35</th>\n",
              "      <th>var_36</th>\n",
              "      <th>var_37</th>\n",
              "      <th>...</th>\n",
              "      <th>var_160</th>\n",
              "      <th>var_161</th>\n",
              "      <th>var_162</th>\n",
              "      <th>var_163</th>\n",
              "      <th>var_164</th>\n",
              "      <th>var_165</th>\n",
              "      <th>var_166</th>\n",
              "      <th>var_167</th>\n",
              "      <th>var_168</th>\n",
              "      <th>var_169</th>\n",
              "      <th>var_170</th>\n",
              "      <th>var_171</th>\n",
              "      <th>var_172</th>\n",
              "      <th>var_173</th>\n",
              "      <th>var_174</th>\n",
              "      <th>var_175</th>\n",
              "      <th>var_176</th>\n",
              "      <th>var_177</th>\n",
              "      <th>var_178</th>\n",
              "      <th>var_179</th>\n",
              "      <th>var_180</th>\n",
              "      <th>var_181</th>\n",
              "      <th>var_182</th>\n",
              "      <th>var_183</th>\n",
              "      <th>var_184</th>\n",
              "      <th>var_185</th>\n",
              "      <th>var_186</th>\n",
              "      <th>var_187</th>\n",
              "      <th>var_188</th>\n",
              "      <th>var_189</th>\n",
              "      <th>var_190</th>\n",
              "      <th>var_191</th>\n",
              "      <th>var_192</th>\n",
              "      <th>var_193</th>\n",
              "      <th>var_194</th>\n",
              "      <th>var_195</th>\n",
              "      <th>var_196</th>\n",
              "      <th>var_197</th>\n",
              "      <th>var_198</th>\n",
              "      <th>var_199</th>\n",
              "    </tr>\n",
              "  </thead>\n",
              "  <tbody>\n",
              "    <tr>\n",
              "      <th>0</th>\n",
              "      <td>train_0</td>\n",
              "      <td>0</td>\n",
              "      <td>8.9255</td>\n",
              "      <td>-6.7863</td>\n",
              "      <td>11.9081</td>\n",
              "      <td>5.0930</td>\n",
              "      <td>11.4607</td>\n",
              "      <td>-9.2834</td>\n",
              "      <td>5.1187</td>\n",
              "      <td>18.6266</td>\n",
              "      <td>-4.9200</td>\n",
              "      <td>5.7470</td>\n",
              "      <td>2.9252</td>\n",
              "      <td>3.1821</td>\n",
              "      <td>14.0137</td>\n",
              "      <td>0.5745</td>\n",
              "      <td>8.7989</td>\n",
              "      <td>14.5691</td>\n",
              "      <td>5.7487</td>\n",
              "      <td>-7.2393</td>\n",
              "      <td>4.2840</td>\n",
              "      <td>30.7133</td>\n",
              "      <td>10.5350</td>\n",
              "      <td>16.2191</td>\n",
              "      <td>2.5791</td>\n",
              "      <td>2.4716</td>\n",
              "      <td>14.3831</td>\n",
              "      <td>13.4325</td>\n",
              "      <td>-5.1488</td>\n",
              "      <td>-0.4073</td>\n",
              "      <td>4.9306</td>\n",
              "      <td>5.9965</td>\n",
              "      <td>-0.3085</td>\n",
              "      <td>12.9041</td>\n",
              "      <td>-3.8766</td>\n",
              "      <td>16.8911</td>\n",
              "      <td>11.1920</td>\n",
              "      <td>10.5785</td>\n",
              "      <td>0.6764</td>\n",
              "      <td>7.8871</td>\n",
              "      <td>...</td>\n",
              "      <td>15.4576</td>\n",
              "      <td>5.3133</td>\n",
              "      <td>3.6159</td>\n",
              "      <td>5.0384</td>\n",
              "      <td>6.6760</td>\n",
              "      <td>12.6644</td>\n",
              "      <td>2.7004</td>\n",
              "      <td>-0.6975</td>\n",
              "      <td>9.5981</td>\n",
              "      <td>5.4879</td>\n",
              "      <td>-4.7645</td>\n",
              "      <td>-8.4254</td>\n",
              "      <td>20.8773</td>\n",
              "      <td>3.1531</td>\n",
              "      <td>18.5618</td>\n",
              "      <td>7.7423</td>\n",
              "      <td>-10.1245</td>\n",
              "      <td>13.7241</td>\n",
              "      <td>-3.5189</td>\n",
              "      <td>1.7202</td>\n",
              "      <td>-8.4051</td>\n",
              "      <td>9.0164</td>\n",
              "      <td>3.0657</td>\n",
              "      <td>14.3691</td>\n",
              "      <td>25.8398</td>\n",
              "      <td>5.8764</td>\n",
              "      <td>11.8411</td>\n",
              "      <td>-19.7159</td>\n",
              "      <td>17.5743</td>\n",
              "      <td>0.5857</td>\n",
              "      <td>4.4354</td>\n",
              "      <td>3.9642</td>\n",
              "      <td>3.1364</td>\n",
              "      <td>1.6910</td>\n",
              "      <td>18.5227</td>\n",
              "      <td>-2.3978</td>\n",
              "      <td>7.8784</td>\n",
              "      <td>8.5635</td>\n",
              "      <td>12.7803</td>\n",
              "      <td>-1.0914</td>\n",
              "    </tr>\n",
              "    <tr>\n",
              "      <th>1</th>\n",
              "      <td>train_1</td>\n",
              "      <td>0</td>\n",
              "      <td>11.5006</td>\n",
              "      <td>-4.1473</td>\n",
              "      <td>13.8588</td>\n",
              "      <td>5.3890</td>\n",
              "      <td>12.3622</td>\n",
              "      <td>7.0433</td>\n",
              "      <td>5.6208</td>\n",
              "      <td>16.5338</td>\n",
              "      <td>3.1468</td>\n",
              "      <td>8.0851</td>\n",
              "      <td>-0.4032</td>\n",
              "      <td>8.0585</td>\n",
              "      <td>14.0239</td>\n",
              "      <td>8.4135</td>\n",
              "      <td>5.4345</td>\n",
              "      <td>13.7003</td>\n",
              "      <td>13.8275</td>\n",
              "      <td>-15.5849</td>\n",
              "      <td>7.8000</td>\n",
              "      <td>28.5708</td>\n",
              "      <td>3.4287</td>\n",
              "      <td>2.7407</td>\n",
              "      <td>8.5524</td>\n",
              "      <td>3.3716</td>\n",
              "      <td>6.9779</td>\n",
              "      <td>13.8910</td>\n",
              "      <td>-11.7684</td>\n",
              "      <td>-2.5586</td>\n",
              "      <td>5.0464</td>\n",
              "      <td>0.5481</td>\n",
              "      <td>-9.2987</td>\n",
              "      <td>7.8755</td>\n",
              "      <td>1.2859</td>\n",
              "      <td>19.3710</td>\n",
              "      <td>11.3702</td>\n",
              "      <td>0.7399</td>\n",
              "      <td>2.7995</td>\n",
              "      <td>5.8434</td>\n",
              "      <td>...</td>\n",
              "      <td>29.4846</td>\n",
              "      <td>5.8683</td>\n",
              "      <td>3.8208</td>\n",
              "      <td>15.8348</td>\n",
              "      <td>-5.0121</td>\n",
              "      <td>15.1345</td>\n",
              "      <td>3.2003</td>\n",
              "      <td>9.3192</td>\n",
              "      <td>3.8821</td>\n",
              "      <td>5.7999</td>\n",
              "      <td>5.5378</td>\n",
              "      <td>5.0988</td>\n",
              "      <td>22.0330</td>\n",
              "      <td>5.5134</td>\n",
              "      <td>30.2645</td>\n",
              "      <td>10.4968</td>\n",
              "      <td>-7.2352</td>\n",
              "      <td>16.5721</td>\n",
              "      <td>-7.3477</td>\n",
              "      <td>11.0752</td>\n",
              "      <td>-5.5937</td>\n",
              "      <td>9.4878</td>\n",
              "      <td>-14.9100</td>\n",
              "      <td>9.4245</td>\n",
              "      <td>22.5441</td>\n",
              "      <td>-4.8622</td>\n",
              "      <td>7.6543</td>\n",
              "      <td>-15.9319</td>\n",
              "      <td>13.3175</td>\n",
              "      <td>-0.3566</td>\n",
              "      <td>7.6421</td>\n",
              "      <td>7.7214</td>\n",
              "      <td>2.5837</td>\n",
              "      <td>10.9516</td>\n",
              "      <td>15.4305</td>\n",
              "      <td>2.0339</td>\n",
              "      <td>8.1267</td>\n",
              "      <td>8.7889</td>\n",
              "      <td>18.3560</td>\n",
              "      <td>1.9518</td>\n",
              "    </tr>\n",
              "    <tr>\n",
              "      <th>2</th>\n",
              "      <td>train_2</td>\n",
              "      <td>0</td>\n",
              "      <td>8.6093</td>\n",
              "      <td>-2.7457</td>\n",
              "      <td>12.0805</td>\n",
              "      <td>7.8928</td>\n",
              "      <td>10.5825</td>\n",
              "      <td>-9.0837</td>\n",
              "      <td>6.9427</td>\n",
              "      <td>14.6155</td>\n",
              "      <td>-4.9193</td>\n",
              "      <td>5.9525</td>\n",
              "      <td>-0.3249</td>\n",
              "      <td>-11.2648</td>\n",
              "      <td>14.1929</td>\n",
              "      <td>7.3124</td>\n",
              "      <td>7.5244</td>\n",
              "      <td>14.6472</td>\n",
              "      <td>7.6782</td>\n",
              "      <td>-1.7395</td>\n",
              "      <td>4.7011</td>\n",
              "      <td>20.4775</td>\n",
              "      <td>17.7559</td>\n",
              "      <td>18.1377</td>\n",
              "      <td>1.2145</td>\n",
              "      <td>3.5137</td>\n",
              "      <td>5.6777</td>\n",
              "      <td>13.2177</td>\n",
              "      <td>-7.9940</td>\n",
              "      <td>-2.9029</td>\n",
              "      <td>5.8463</td>\n",
              "      <td>6.1439</td>\n",
              "      <td>-11.1025</td>\n",
              "      <td>12.4858</td>\n",
              "      <td>-2.2871</td>\n",
              "      <td>19.0422</td>\n",
              "      <td>11.0449</td>\n",
              "      <td>4.1087</td>\n",
              "      <td>4.6974</td>\n",
              "      <td>6.9346</td>\n",
              "      <td>...</td>\n",
              "      <td>13.2070</td>\n",
              "      <td>5.8442</td>\n",
              "      <td>4.7086</td>\n",
              "      <td>5.7141</td>\n",
              "      <td>-1.0410</td>\n",
              "      <td>20.5092</td>\n",
              "      <td>3.2790</td>\n",
              "      <td>-5.5952</td>\n",
              "      <td>7.3176</td>\n",
              "      <td>5.7690</td>\n",
              "      <td>-7.0927</td>\n",
              "      <td>-3.9116</td>\n",
              "      <td>7.2569</td>\n",
              "      <td>-5.8234</td>\n",
              "      <td>25.6820</td>\n",
              "      <td>10.9202</td>\n",
              "      <td>-0.3104</td>\n",
              "      <td>8.8438</td>\n",
              "      <td>-9.7009</td>\n",
              "      <td>2.4013</td>\n",
              "      <td>-4.2935</td>\n",
              "      <td>9.3908</td>\n",
              "      <td>-13.2648</td>\n",
              "      <td>3.1545</td>\n",
              "      <td>23.0866</td>\n",
              "      <td>-5.3000</td>\n",
              "      <td>5.3745</td>\n",
              "      <td>-6.2660</td>\n",
              "      <td>10.1934</td>\n",
              "      <td>-0.8417</td>\n",
              "      <td>2.9057</td>\n",
              "      <td>9.7905</td>\n",
              "      <td>1.6704</td>\n",
              "      <td>1.6858</td>\n",
              "      <td>21.6042</td>\n",
              "      <td>3.1417</td>\n",
              "      <td>-6.5213</td>\n",
              "      <td>8.2675</td>\n",
              "      <td>14.7222</td>\n",
              "      <td>0.3965</td>\n",
              "    </tr>\n",
              "    <tr>\n",
              "      <th>3</th>\n",
              "      <td>train_3</td>\n",
              "      <td>0</td>\n",
              "      <td>11.0604</td>\n",
              "      <td>-2.1518</td>\n",
              "      <td>8.9522</td>\n",
              "      <td>7.1957</td>\n",
              "      <td>12.5846</td>\n",
              "      <td>-1.8361</td>\n",
              "      <td>5.8428</td>\n",
              "      <td>14.9250</td>\n",
              "      <td>-5.8609</td>\n",
              "      <td>8.2450</td>\n",
              "      <td>2.3061</td>\n",
              "      <td>2.8102</td>\n",
              "      <td>13.8463</td>\n",
              "      <td>11.9704</td>\n",
              "      <td>6.4569</td>\n",
              "      <td>14.8372</td>\n",
              "      <td>10.7430</td>\n",
              "      <td>-0.4299</td>\n",
              "      <td>15.9426</td>\n",
              "      <td>13.7257</td>\n",
              "      <td>20.3010</td>\n",
              "      <td>12.5579</td>\n",
              "      <td>6.8202</td>\n",
              "      <td>2.7229</td>\n",
              "      <td>12.1354</td>\n",
              "      <td>13.7367</td>\n",
              "      <td>0.8135</td>\n",
              "      <td>-0.9059</td>\n",
              "      <td>5.9070</td>\n",
              "      <td>2.8407</td>\n",
              "      <td>-15.2398</td>\n",
              "      <td>10.4407</td>\n",
              "      <td>-2.5731</td>\n",
              "      <td>6.1796</td>\n",
              "      <td>10.6093</td>\n",
              "      <td>-5.9158</td>\n",
              "      <td>8.1723</td>\n",
              "      <td>2.8521</td>\n",
              "      <td>...</td>\n",
              "      <td>31.8833</td>\n",
              "      <td>5.9684</td>\n",
              "      <td>7.2084</td>\n",
              "      <td>3.8899</td>\n",
              "      <td>-11.0882</td>\n",
              "      <td>17.2502</td>\n",
              "      <td>2.5881</td>\n",
              "      <td>-2.7018</td>\n",
              "      <td>0.5641</td>\n",
              "      <td>5.3430</td>\n",
              "      <td>-7.1541</td>\n",
              "      <td>-6.1920</td>\n",
              "      <td>18.2366</td>\n",
              "      <td>11.7134</td>\n",
              "      <td>14.7483</td>\n",
              "      <td>8.1013</td>\n",
              "      <td>11.8771</td>\n",
              "      <td>13.9552</td>\n",
              "      <td>-10.4701</td>\n",
              "      <td>5.6961</td>\n",
              "      <td>-3.7546</td>\n",
              "      <td>8.4117</td>\n",
              "      <td>1.8986</td>\n",
              "      <td>7.2601</td>\n",
              "      <td>-0.4639</td>\n",
              "      <td>-0.0498</td>\n",
              "      <td>7.9336</td>\n",
              "      <td>-12.8279</td>\n",
              "      <td>12.4124</td>\n",
              "      <td>1.8489</td>\n",
              "      <td>4.4666</td>\n",
              "      <td>4.7433</td>\n",
              "      <td>0.7178</td>\n",
              "      <td>1.4214</td>\n",
              "      <td>23.0347</td>\n",
              "      <td>-1.2706</td>\n",
              "      <td>-2.9275</td>\n",
              "      <td>10.2922</td>\n",
              "      <td>17.9697</td>\n",
              "      <td>-8.9996</td>\n",
              "    </tr>\n",
              "    <tr>\n",
              "      <th>4</th>\n",
              "      <td>train_4</td>\n",
              "      <td>0</td>\n",
              "      <td>9.8369</td>\n",
              "      <td>-1.4834</td>\n",
              "      <td>12.8746</td>\n",
              "      <td>6.6375</td>\n",
              "      <td>12.2772</td>\n",
              "      <td>2.4486</td>\n",
              "      <td>5.9405</td>\n",
              "      <td>19.2514</td>\n",
              "      <td>6.2654</td>\n",
              "      <td>7.6784</td>\n",
              "      <td>-9.4458</td>\n",
              "      <td>-12.1419</td>\n",
              "      <td>13.8481</td>\n",
              "      <td>7.8895</td>\n",
              "      <td>7.7894</td>\n",
              "      <td>15.0553</td>\n",
              "      <td>8.4871</td>\n",
              "      <td>-3.0680</td>\n",
              "      <td>6.5263</td>\n",
              "      <td>11.3152</td>\n",
              "      <td>21.4246</td>\n",
              "      <td>18.9608</td>\n",
              "      <td>10.1102</td>\n",
              "      <td>2.7142</td>\n",
              "      <td>14.2080</td>\n",
              "      <td>13.5433</td>\n",
              "      <td>3.1736</td>\n",
              "      <td>-3.3423</td>\n",
              "      <td>5.9015</td>\n",
              "      <td>7.9352</td>\n",
              "      <td>-3.1582</td>\n",
              "      <td>9.4668</td>\n",
              "      <td>-0.0083</td>\n",
              "      <td>19.3239</td>\n",
              "      <td>12.4057</td>\n",
              "      <td>0.6329</td>\n",
              "      <td>2.7922</td>\n",
              "      <td>5.8184</td>\n",
              "      <td>...</td>\n",
              "      <td>33.5107</td>\n",
              "      <td>5.6953</td>\n",
              "      <td>5.4663</td>\n",
              "      <td>18.2201</td>\n",
              "      <td>6.5769</td>\n",
              "      <td>21.2607</td>\n",
              "      <td>3.2304</td>\n",
              "      <td>-1.7759</td>\n",
              "      <td>3.1283</td>\n",
              "      <td>5.5518</td>\n",
              "      <td>1.4493</td>\n",
              "      <td>-2.6627</td>\n",
              "      <td>19.8056</td>\n",
              "      <td>2.3705</td>\n",
              "      <td>18.4685</td>\n",
              "      <td>16.3309</td>\n",
              "      <td>-3.3456</td>\n",
              "      <td>13.5261</td>\n",
              "      <td>1.7189</td>\n",
              "      <td>5.1743</td>\n",
              "      <td>-7.6938</td>\n",
              "      <td>9.7685</td>\n",
              "      <td>4.8910</td>\n",
              "      <td>12.2198</td>\n",
              "      <td>11.8503</td>\n",
              "      <td>-7.8931</td>\n",
              "      <td>6.4209</td>\n",
              "      <td>5.9270</td>\n",
              "      <td>16.0201</td>\n",
              "      <td>-0.2829</td>\n",
              "      <td>-1.4905</td>\n",
              "      <td>9.5214</td>\n",
              "      <td>-0.1508</td>\n",
              "      <td>9.1942</td>\n",
              "      <td>13.2876</td>\n",
              "      <td>-1.5121</td>\n",
              "      <td>3.9267</td>\n",
              "      <td>9.5031</td>\n",
              "      <td>17.9974</td>\n",
              "      <td>-8.8104</td>\n",
              "    </tr>\n",
              "  </tbody>\n",
              "</table>\n",
              "<p>5 rows × 202 columns</p>\n",
              "</div>"
            ],
            "text/plain": [
              "   ID_code  target    var_0   var_1  ...  var_196  var_197  var_198  var_199\n",
              "0  train_0       0   8.9255 -6.7863  ...   7.8784   8.5635  12.7803  -1.0914\n",
              "1  train_1       0  11.5006 -4.1473  ...   8.1267   8.7889  18.3560   1.9518\n",
              "2  train_2       0   8.6093 -2.7457  ...  -6.5213   8.2675  14.7222   0.3965\n",
              "3  train_3       0  11.0604 -2.1518  ...  -2.9275  10.2922  17.9697  -8.9996\n",
              "4  train_4       0   9.8369 -1.4834  ...   3.9267   9.5031  17.9974  -8.8104\n",
              "\n",
              "[5 rows x 202 columns]"
            ]
          },
          "metadata": {
            "tags": []
          },
          "execution_count": 5
        }
      ]
    },
    {
      "cell_type": "code",
      "metadata": {
        "id": "hh-y6jpyTv89",
        "colab_type": "code",
        "colab": {
          "base_uri": "https://localhost:8080/",
          "height": 35
        },
        "outputId": "07df16e4-2b78-48d4-c496-347f8de34503"
      },
      "source": [
        "train_file.shape"
      ],
      "execution_count": null,
      "outputs": [
        {
          "output_type": "execute_result",
          "data": {
            "text/plain": [
              "(200000, 202)"
            ]
          },
          "metadata": {
            "tags": []
          },
          "execution_count": 6
        }
      ]
    },
    {
      "cell_type": "markdown",
      "metadata": {
        "id": "huCwJZL297jp",
        "colab_type": "text"
      },
      "source": [
        "**Here we see that the features are mostly PC components (except ID_code feature) where we cannot get a description of any PC variable nor we can engineer with.**"
      ]
    },
    {
      "cell_type": "markdown",
      "metadata": {
        "id": "jYhyOjbU-PoE",
        "colab_type": "text"
      },
      "source": [
        "### **Exploratory Data Analysis (EDA)**\n",
        "\n",
        "Lets visualize our data"
      ]
    },
    {
      "cell_type": "code",
      "metadata": {
        "id": "iW4RcibK9kyL",
        "colab_type": "code",
        "colab": {
          "base_uri": "https://localhost:8080/",
          "height": 73
        },
        "outputId": "1ce7a0e1-e86b-4c52-d9a3-bb1a45eef67c"
      },
      "source": [
        "#Importing required packages...\n",
        "import matplotlib.pyplot as plt\n",
        "import seaborn as sns\n",
        "%matplotlib inline"
      ],
      "execution_count": null,
      "outputs": [
        {
          "output_type": "stream",
          "text": [
            "/usr/local/lib/python3.6/dist-packages/statsmodels/tools/_testing.py:19: FutureWarning: pandas.util.testing is deprecated. Use the functions in the public API at pandas.testing instead.\n",
            "  import pandas.util.testing as tm\n"
          ],
          "name": "stderr"
        }
      ]
    },
    {
      "cell_type": "code",
      "metadata": {
        "id": "7BV5aN2R-Mo8",
        "colab_type": "code",
        "colab": {
          "base_uri": "https://localhost:8080/",
          "height": 368
        },
        "outputId": "2f50f58d-c1d3-41b0-a249-8b5ae81fa8ac"
      },
      "source": [
        "plt.figure(figsize=(7,5))\n",
        "sns.countplot(x='target', data=train_file)\n",
        "plt.xlabel('Target variable')\n",
        "plt.ylabel('Count')\n",
        "plt.title('Target Evaluation')"
      ],
      "execution_count": null,
      "outputs": [
        {
          "output_type": "execute_result",
          "data": {
            "text/plain": [
              "Text(0.5, 1.0, 'Target Evaluation')"
            ]
          },
          "metadata": {
            "tags": []
          },
          "execution_count": 8
        },
        {
          "output_type": "display_data",
          "data": {
            "image/png": "[encoded data removed]",
            "text/plain": [
              "<Figure size 504x360 with 1 Axes>"
            ]
          },
          "metadata": {
            "tags": [],
            "needs_background": "light"
          }
        }
      ]
    },
    {
      "cell_type": "markdown",
      "metadata": {
        "id": "FSgKydXd_yde",
        "colab_type": "text"
      },
      "source": [
        "**Here from the above plot we see that our data is highly imbalaced i.e., very less number of customers have made specific transaction.**"
      ]
    },
    {
      "cell_type": "markdown",
      "metadata": {
        "id": "6hS3XhwwqAy_",
        "colab_type": "text"
      },
      "source": [
        "**As the data is highly imbalanced, we need to balance the data so lets find the class weights**"
      ]
    },
    {
      "cell_type": "code",
      "metadata": {
        "id": "EmHO0FJMw-t8",
        "colab_type": "code",
        "colab": {
          "base_uri": "https://localhost:8080/",
          "height": 35
        },
        "outputId": "b97ee5f9-43d4-466d-9e0e-08578729ad59"
      },
      "source": [
        "unique_classes= list(train_file['target'].unique())\n",
        "unique_classes"
      ],
      "execution_count": null,
      "outputs": [
        {
          "output_type": "execute_result",
          "data": {
            "text/plain": [
              "[0, 1]"
            ]
          },
          "metadata": {
            "tags": []
          },
          "execution_count": 9
        }
      ]
    },
    {
      "cell_type": "code",
      "metadata": {
        "id": "RbfQ0gHow_hc",
        "colab_type": "code",
        "colab": {
          "base_uri": "https://localhost:8080/",
          "height": 35
        },
        "outputId": "b3002f87-96a5-44bf-b55c-3cbaf8ed3878"
      },
      "source": [
        "out_dict= {}\n",
        "for classes in unique_classes:\n",
        "  out_dict[classes]= train_file.shape[0]/((train_file.loc[train_file['target']==classes].shape[0]) * (len(unique_classes)))\n",
        "\n",
        "out_dict"
      ],
      "execution_count": null,
      "outputs": [
        {
          "output_type": "execute_result",
          "data": {
            "text/plain": [
              "{0: 0.5558581894587052, 1: 4.975619464623346}"
            ]
          },
          "metadata": {
            "tags": []
          },
          "execution_count": 10
        }
      ]
    },
    {
      "cell_type": "code",
      "metadata": {
        "id": "h6uiK2CE_v19",
        "colab_type": "code",
        "colab": {
          "base_uri": "https://localhost:8080/",
          "height": 235
        },
        "outputId": "bcdfc1c8-d678-4527-ebd3-f2e5e826305c"
      },
      "source": [
        "train_file.isna().sum()"
      ],
      "execution_count": null,
      "outputs": [
        {
          "output_type": "execute_result",
          "data": {
            "text/plain": [
              "ID_code    0\n",
              "target     0\n",
              "var_0      0\n",
              "var_1      0\n",
              "var_2      0\n",
              "          ..\n",
              "var_195    0\n",
              "var_196    0\n",
              "var_197    0\n",
              "var_198    0\n",
              "var_199    0\n",
              "Length: 202, dtype: int64"
            ]
          },
          "metadata": {
            "tags": []
          },
          "execution_count": 11
        }
      ]
    },
    {
      "cell_type": "markdown",
      "metadata": {
        "id": "04gG9MoNRBfc",
        "colab_type": "text"
      },
      "source": [
        "**From above we see that none of the varaibles have missing values. As our data is scaled and doesn't have any missing values we are good to go with this data.**"
      ]
    },
    {
      "cell_type": "markdown",
      "metadata": {
        "id": "k6kH0x8O2BqY",
        "colab_type": "text"
      },
      "source": [
        "**Lets try to see if have any correlated variables in our dataset. If yes, then we would remove it.**"
      ]
    },
    {
      "cell_type": "code",
      "metadata": {
        "id": "UnTQTD0gTQ2R",
        "colab_type": "code",
        "colab": {}
      },
      "source": [
        "correlated_features = set()\n",
        "correlation_matrix = X_train.corr()\n",
        "\n",
        "for i in range(len(correlation_matrix.columns)):\n",
        "    for j in range(i):\n",
        "        if abs(correlation_matrix.iloc[i, j]) > 0.1:\n",
        "            colname = correlation_matrix.columns[i]\n",
        "            correlated_features.add(colname)"
      ],
      "execution_count": null,
      "outputs": []
    },
    {
      "cell_type": "code",
      "metadata": {
        "id": "er_G-eQvUOW2",
        "colab_type": "code",
        "colab": {
          "base_uri": "https://localhost:8080/",
          "height": 35
        },
        "outputId": "319e71e5-43cd-4180-81c0-7103064b2303"
      },
      "source": [
        "correlated_features"
      ],
      "execution_count": null,
      "outputs": [
        {
          "output_type": "execute_result",
          "data": {
            "text/plain": [
              "set()"
            ]
          },
          "metadata": {
            "tags": []
          },
          "execution_count": 18
        }
      ]
    },
    {
      "cell_type": "markdown",
      "metadata": {
        "id": "lrDiAE9B2VI_",
        "colab_type": "text"
      },
      "source": [
        "**From above, we see that we dont have any correlated variables i.e., they are independent from each other.**"
      ]
    },
    {
      "cell_type": "markdown",
      "metadata": {
        "id": "ofHnx1BxZ9Cp",
        "colab_type": "text"
      },
      "source": [
        "### **Model Building**"
      ]
    },
    {
      "cell_type": "markdown",
      "metadata": {
        "id": "uGJu8o7EIHGb",
        "colab_type": "text"
      },
      "source": [
        "### **Logistic Regression**"
      ]
    },
    {
      "cell_type": "code",
      "metadata": {
        "id": "Byx4iLWWZjQ9",
        "colab_type": "code",
        "colab": {}
      },
      "source": [
        "#Importing required packages...\n",
        "from sklearn.linear_model import LogisticRegression\n",
        "from sklearn.model_selection import train_test_split, GridSearchCV\n",
        "from sklearn.metrics import confusion_matrix, classification_report, accuracy_score, precision_score, recall_score, roc_auc_score, roc_curve"
      ],
      "execution_count": null,
      "outputs": []
    },
    {
      "cell_type": "code",
      "metadata": {
        "id": "NHHBn0GtaF-e",
        "colab_type": "code",
        "colab": {}
      },
      "source": [
        "lr= LogisticRegression(class_weight={0: 0.5558581894587052, 1: 4.975619464623346})  #These class weight ratio has been taken from the above where we calculated"
      ],
      "execution_count": null,
      "outputs": []
    },
    {
      "cell_type": "markdown",
      "metadata": {
        "id": "Y_OGspaXaL0a",
        "colab_type": "text"
      },
      "source": [
        "**Splitting the data into Train and Test**"
      ]
    },
    {
      "cell_type": "code",
      "metadata": {
        "id": "lI3yYe1hcJSS",
        "colab_type": "code",
        "colab": {}
      },
      "source": [
        "X= train_file.drop(train_file.iloc[:,0:2], axis=1)\n",
        "Y= train_file['target']"
      ],
      "execution_count": null,
      "outputs": []
    },
    {
      "cell_type": "code",
      "metadata": {
        "id": "bAndp0T4aI26",
        "colab_type": "code",
        "colab": {}
      },
      "source": [
        "X_train, X_test, Y_train, Y_test = train_test_split(X, Y, test_size=0.2, stratify=Y, random_state=20)"
      ],
      "execution_count": null,
      "outputs": []
    },
    {
      "cell_type": "code",
      "metadata": {
        "id": "hZmlD9RqgGjf",
        "colab_type": "code",
        "colab": {
          "base_uri": "https://localhost:8080/",
          "height": 271
        },
        "outputId": "c6034392-0819-4d53-cccc-851d77e984c8"
      },
      "source": [
        "lr.fit(X_train, Y_train)"
      ],
      "execution_count": null,
      "outputs": [
        {
          "output_type": "stream",
          "text": [
            "/usr/local/lib/python3.6/dist-packages/sklearn/linear_model/_logistic.py:940: ConvergenceWarning: lbfgs failed to converge (status=1):\n",
            "STOP: TOTAL NO. of ITERATIONS REACHED LIMIT.\n",
            "\n",
            "Increase the number of iterations (max_iter) or scale the data as shown in:\n",
            "    https://scikit-learn.org/stable/modules/preprocessing.html\n",
            "Please also refer to the documentation for alternative solver options:\n",
            "    https://scikit-learn.org/stable/modules/linear_model.html#logistic-regression\n",
            "  extra_warning_msg=_LOGISTIC_SOLVER_CONVERGENCE_MSG)\n"
          ],
          "name": "stderr"
        },
        {
          "output_type": "execute_result",
          "data": {
            "text/plain": [
              "LogisticRegression(C=1.0,\n",
              "                   class_weight={0: 0.5558581894587052, 1: 4.975619464623346},\n",
              "                   dual=False, fit_intercept=True, intercept_scaling=1,\n",
              "                   l1_ratio=None, max_iter=100, multi_class='auto', n_jobs=None,\n",
              "                   penalty='l2', random_state=None, solver='lbfgs', tol=0.0001,\n",
              "                   verbose=0, warm_start=False)"
            ]
          },
          "metadata": {
            "tags": []
          },
          "execution_count": 19
        }
      ]
    },
    {
      "cell_type": "code",
      "metadata": {
        "id": "cyb_VMbvgzi_",
        "colab_type": "code",
        "colab": {}
      },
      "source": [
        "train_score= lr.predict_proba(X_train)[:,1]\n",
        "real= Y_train"
      ],
      "execution_count": null,
      "outputs": []
    },
    {
      "cell_type": "markdown",
      "metadata": {
        "id": "OMJyt7J4lrS6",
        "colab_type": "text"
      },
      "source": [
        "**Finding Threshold Frequency cutoff**"
      ]
    },
    {
      "cell_type": "code",
      "metadata": {
        "id": "NngJfs1xEn2Q",
        "colab_type": "code",
        "colab": {}
      },
      "source": [
        "fpr, tpr, thresholds = roc_curve(real, train_score)"
      ],
      "execution_count": null,
      "outputs": []
    },
    {
      "cell_type": "code",
      "metadata": {
        "id": "6d77a7b-En6M",
        "colab_type": "code",
        "colab": {
          "base_uri": "https://localhost:8080/",
          "height": 297
        },
        "outputId": "bf1ecd95-9271-45d6-9dd7-ac422689c5fe"
      },
      "source": [
        "plt.plot([0,1], [0,1], linestyle='--', label='Minimum')\n",
        "plt.plot(fpr, tpr, marker=',', label='Logistic')\n",
        "plt.xlabel('False Positive Rate')\n",
        "plt.ylabel('True Positive Rate')\n",
        "plt.legend()"
      ],
      "execution_count": null,
      "outputs": [
        {
          "output_type": "execute_result",
          "data": {
            "text/plain": [
              "<matplotlib.legend.Legend at 0x7fd3391a5b38>"
            ]
          },
          "metadata": {
            "tags": []
          },
          "execution_count": 23
        },
        {
          "output_type": "display_data",
          "data": {
            "image/png": "[encoded data removed]",
            "text/plain": [
              "<Figure size 432x288 with 1 Axes>"
            ]
          },
          "metadata": {
            "tags": [],
            "needs_background": "light"
          }
        }
      ]
    },
    {
      "cell_type": "markdown",
      "metadata": {
        "id": "OWHRfgfgEzEp",
        "colab_type": "text"
      },
      "source": [
        "**Here we will use G-Mean which is a metric for imbalance classification that, if optimized, will seek a balance between the Sensitivity and Specificity.**\n",
        "\n",
        "\n",
        "\n",
        "> Sensitivity = True Positive Rate(TPR)\n",
        "\n",
        "> Specificity = 1 - False Positive Rate(FPR)\n",
        "\n",
        "> G-Mean = sqrt(Sensitivity* Specificity)"
      ]
    },
    {
      "cell_type": "code",
      "metadata": {
        "id": "G2jmpNFAEn_P",
        "colab_type": "code",
        "colab": {}
      },
      "source": [
        "#Calculate gmean for each threshold\n",
        "gmeans = np.sqrt(tpr * (1-fpr))"
      ],
      "execution_count": null,
      "outputs": []
    },
    {
      "cell_type": "code",
      "metadata": {
        "id": "CSZqSwRAEoAn",
        "colab_type": "code",
        "colab": {}
      },
      "source": [
        "#Locate the index of the largest G-Mean\n",
        "ix = np.argmax(gmeans)\n",
        "# print('Best Threshold=%f, G-Mean=%.3f'%(thresholds[ix], gmeans[ix]))"
      ],
      "execution_count": null,
      "outputs": []
    },
    {
      "cell_type": "code",
      "metadata": {
        "id": "IR_2V0JoEoDO",
        "colab_type": "code",
        "colab": {
          "base_uri": "https://localhost:8080/",
          "height": 297
        },
        "outputId": "4718a468-6ed5-43df-d2b3-13385f6d57db"
      },
      "source": [
        "plt.plot([0,1], [0,1], linestyle='--', label='Minimum')\n",
        "plt.plot(fpr, tpr, marker=',', label='Logistic')\n",
        "plt.scatter(fpr[ix], tpr[ix], marker='o', color='black', label='Best')\n",
        "plt.xlabel('False Positive Rate')\n",
        "plt.ylabel('True Positive Rate')\n",
        "plt.legend()"
      ],
      "execution_count": null,
      "outputs": [
        {
          "output_type": "execute_result",
          "data": {
            "text/plain": [
              "<matplotlib.legend.Legend at 0x7fd33912e588>"
            ]
          },
          "metadata": {
            "tags": []
          },
          "execution_count": 26
        },
        {
          "output_type": "display_data",
          "data": {
            "image/png": "[encoded data removed]",
            "text/plain": [
              "<Figure size 432x288 with 1 Axes>"
            ]
          },
          "metadata": {
            "tags": [],
            "needs_background": "light"
          }
        }
      ]
    },
    {
      "cell_type": "code",
      "metadata": {
        "id": "5q8Va_9iEoE0",
        "colab_type": "code",
        "colab": {}
      },
      "source": [
        "mycutoff=0.75"
      ],
      "execution_count": null,
      "outputs": []
    },
    {
      "cell_type": "markdown",
      "metadata": {
        "id": "0fRG2wEgE8R2",
        "colab_type": "text"
      },
      "source": [
        "**From, above plot we conclude that 0.75 will be our Threshold frequency cutoff score**"
      ]
    },
    {
      "cell_type": "code",
      "metadata": {
        "id": "0CYNjqJzE04e",
        "colab_type": "code",
        "colab": {}
      },
      "source": [
        "test_score= lr.predict_proba(X_test)[:,1]\n",
        "Y_pred= (test_score>mycutoff).astype(int)"
      ],
      "execution_count": null,
      "outputs": []
    },
    {
      "cell_type": "code",
      "metadata": {
        "id": "04DXyxuFJmc9",
        "colab_type": "code",
        "colab": {
          "base_uri": "https://localhost:8080/",
          "height": 53
        },
        "outputId": "cc704261-2384-4350-9912-126ec4002494"
      },
      "source": [
        "cm= confusion_matrix(Y_test, Y_pred)\n",
        "cm"
      ],
      "execution_count": null,
      "outputs": [
        {
          "output_type": "execute_result",
          "data": {
            "text/plain": [
              "array([[33720,  2260],\n",
              "       [ 2111,  1909]])"
            ]
          },
          "metadata": {
            "tags": []
          },
          "execution_count": 29
        }
      ]
    },
    {
      "cell_type": "markdown",
      "metadata": {
        "id": "M8AJrU_9spw7",
        "colab_type": "text"
      },
      "source": [
        "**Logistic Regression metrics:**"
      ]
    },
    {
      "cell_type": "code",
      "metadata": {
        "id": "u9lSq6zUFYc2",
        "colab_type": "code",
        "colab": {
          "base_uri": "https://localhost:8080/",
          "height": 90
        },
        "outputId": "405911e7-4238-4e33-ef89-05d110efa28b"
      },
      "source": [
        "print('Accuracy is:', accuracy_score(Y_test, Y_pred))\n",
        "print('ROC_AUC score is', roc_auc_score(Y_test, Y_pred))\n",
        "print('Precision score is:', precision_score(Y_test, Y_pred))\n",
        "print('Recall score is:', recall_score(Y_test, Y_pred))"
      ],
      "execution_count": null,
      "outputs": [
        {
          "output_type": "stream",
          "text": [
            "Accuracy is: 0.890725\n",
            "ROC_AUC score is 0.7060314740914659\n",
            "Precision score is: 0.4579035739985608\n",
            "Recall score is: 0.4748756218905473\n"
          ],
          "name": "stdout"
        }
      ]
    },
    {
      "cell_type": "markdown",
      "metadata": {
        "id": "l_zbwJVVB7aP",
        "colab_type": "text"
      },
      "source": [
        "### **Light GBM**"
      ]
    },
    {
      "cell_type": "code",
      "metadata": {
        "id": "HVR_VIYRwNV9",
        "colab_type": "code",
        "colab": {}
      },
      "source": [
        "#Import required packages...\n",
        "from lightgbm import LGBMClassifier"
      ],
      "execution_count": null,
      "outputs": []
    },
    {
      "cell_type": "code",
      "metadata": {
        "id": "63BfqO-NwNXg",
        "colab_type": "code",
        "colab": {}
      },
      "source": [
        "lgb= LGBMClassifier(class_weight= {0: 0.5558581894587052, 1: 4.975619464623346}, metric= 'auc',\n",
        "                    boosting_type= 'gbdt', objective= 'binary', n_estimators= 1000, learning_rate= 0.05, n_jobs=-1, verbose=1)"
      ],
      "execution_count": null,
      "outputs": []
    },
    {
      "cell_type": "code",
      "metadata": {
        "id": "MwOVRgNDwNbY",
        "colab_type": "code",
        "colab": {
          "base_uri": "https://localhost:8080/",
          "height": 181
        },
        "outputId": "848a46cd-1c84-46f5-9fa3-350188abc92c"
      },
      "source": [
        "lgb.fit(X_train, Y_train)"
      ],
      "execution_count": null,
      "outputs": [
        {
          "output_type": "execute_result",
          "data": {
            "text/plain": [
              "LGBMClassifier(boosting_type='gbdt',\n",
              "               class_weight={0: 0.5558581894587052, 1: 4.975619464623346},\n",
              "               colsample_bytree=1.0, importance_type='split',\n",
              "               learning_rate=0.05, max_depth=-1, metric='auc',\n",
              "               min_child_samples=20, min_child_weight=0.001, min_split_gain=0.0,\n",
              "               n_estimators=1000, n_jobs=-1, num_leaves=31, objective='binary',\n",
              "               random_state=None, reg_alpha=0.0, reg_lambda=0.0, silent=True,\n",
              "               subsample=1.0, subsample_for_bin=200000, subsample_freq=0,\n",
              "               verbose=1)"
            ]
          },
          "metadata": {
            "tags": []
          },
          "execution_count": 33
        }
      ]
    },
    {
      "cell_type": "code",
      "metadata": {
        "id": "c45VnTaiwNgO",
        "colab_type": "code",
        "colab": {}
      },
      "source": [
        "test_score= lgb.predict_proba(X_test)[:,1]\n",
        "Y_pred= (test_score>mycutoff).astype(int)"
      ],
      "execution_count": null,
      "outputs": []
    },
    {
      "cell_type": "code",
      "metadata": {
        "id": "n-UUfNSjwNaj",
        "colab_type": "code",
        "colab": {
          "base_uri": "https://localhost:8080/",
          "height": 53
        },
        "outputId": "6d4ef619-8af3-4ef1-ba17-76f136342405"
      },
      "source": [
        "cm= confusion_matrix(Y_test, Y_pred)\n",
        "cm"
      ],
      "execution_count": null,
      "outputs": [
        {
          "output_type": "execute_result",
          "data": {
            "text/plain": [
              "array([[35259,   721],\n",
              "       [ 2418,  1602]])"
            ]
          },
          "metadata": {
            "tags": []
          },
          "execution_count": 35
        }
      ]
    },
    {
      "cell_type": "markdown",
      "metadata": {
        "id": "yxPfVohotFlB",
        "colab_type": "text"
      },
      "source": [
        "**Light GBM metrics:**"
      ]
    },
    {
      "cell_type": "code",
      "metadata": {
        "id": "bbDabkM3gbIV",
        "colab_type": "code",
        "colab": {
          "base_uri": "https://localhost:8080/",
          "height": 90
        },
        "outputId": "c59a1633-899c-4bef-beab-5db1fb04f5eb"
      },
      "source": [
        "print('Accuracy is:', accuracy_score(Y_test, Y_pred))\n",
        "print('ROC_AUC score is', roc_auc_score(Y_test, Y_pred))\n",
        "print('Precision score is:', precision_score(Y_test, Y_pred))\n",
        "print('Recall score is:', recall_score(Y_test, Y_pred))"
      ],
      "execution_count": null,
      "outputs": [
        {
          "output_type": "stream",
          "text": [
            "Accuracy is: 0.921525\n",
            "ROC_AUC score is 0.6892342760903652\n",
            "Precision score is: 0.6896254842875592\n",
            "Recall score is: 0.39850746268656717\n"
          ],
          "name": "stdout"
        }
      ]
    },
    {
      "cell_type": "markdown",
      "metadata": {
        "id": "cJzWIpSoi_Eo",
        "colab_type": "text"
      },
      "source": [
        "### **Gaussian Naive Bayes**"
      ]
    },
    {
      "cell_type": "code",
      "metadata": {
        "id": "YwGzPgqHggr3",
        "colab_type": "code",
        "colab": {}
      },
      "source": [
        "#Importing required packages...\n",
        "from sklearn.naive_bayes import GaussianNB"
      ],
      "execution_count": null,
      "outputs": []
    },
    {
      "cell_type": "code",
      "metadata": {
        "id": "22xZpqZoj2pG",
        "colab_type": "code",
        "colab": {}
      },
      "source": [
        "gnb= GaussianNB()"
      ],
      "execution_count": null,
      "outputs": []
    },
    {
      "cell_type": "code",
      "metadata": {
        "id": "dkmiaKezmDg_",
        "colab_type": "code",
        "colab": {
          "base_uri": "https://localhost:8080/",
          "height": 35
        },
        "outputId": "602caf10-119e-4f26-d98d-8d03921401aa"
      },
      "source": [
        "gnb.fit(X_train, Y_train)"
      ],
      "execution_count": null,
      "outputs": [
        {
          "output_type": "execute_result",
          "data": {
            "text/plain": [
              "GaussianNB(priors=None, var_smoothing=1e-09)"
            ]
          },
          "metadata": {
            "tags": []
          },
          "execution_count": 39
        }
      ]
    },
    {
      "cell_type": "code",
      "metadata": {
        "id": "4hIjMQ5Vmf8r",
        "colab_type": "code",
        "colab": {}
      },
      "source": [
        "test_score= gnb.predict_proba(X_test)[:,1]\n",
        "Y_pred= (test_score>mycutoff).astype(int)"
      ],
      "execution_count": null,
      "outputs": []
    },
    {
      "cell_type": "code",
      "metadata": {
        "id": "y6BnbF2pnNTk",
        "colab_type": "code",
        "colab": {
          "base_uri": "https://localhost:8080/",
          "height": 53
        },
        "outputId": "c3033ddb-4238-4085-ce86-21a23eaa6aca"
      },
      "source": [
        "cm= confusion_matrix(Y_test, Y_pred)\n",
        "cm"
      ],
      "execution_count": null,
      "outputs": [
        {
          "output_type": "execute_result",
          "data": {
            "text/plain": [
              "array([[35865,   115],\n",
              "       [ 3324,   696]])"
            ]
          },
          "metadata": {
            "tags": []
          },
          "execution_count": 41
        }
      ]
    },
    {
      "cell_type": "markdown",
      "metadata": {
        "id": "ejFmLiCdtWKs",
        "colab_type": "text"
      },
      "source": [
        "**GaussianNB metrics:**"
      ]
    },
    {
      "cell_type": "code",
      "metadata": {
        "id": "-lb1hypUnN_3",
        "colab_type": "code",
        "colab": {
          "base_uri": "https://localhost:8080/",
          "height": 90
        },
        "outputId": "c333f411-661c-4de1-e213-9ad4ce5acd9d"
      },
      "source": [
        "print('Accuracy is:', accuracy_score(Y_test, Y_pred))\n",
        "print('ROC_AUC score is', roc_auc_score(Y_test, Y_pred))\n",
        "print('Precision score is:', precision_score(Y_test, Y_pred))\n",
        "print('Recall score is:', recall_score(Y_test, Y_pred))"
      ],
      "execution_count": null,
      "outputs": [
        {
          "output_type": "stream",
          "text": [
            "Accuracy is: 0.914025\n",
            "ROC_AUC score is 0.5849690541179594\n",
            "Precision score is: 0.8581997533908755\n",
            "Recall score is: 0.17313432835820897\n"
          ],
          "name": "stdout"
        }
      ]
    },
    {
      "cell_type": "markdown",
      "metadata": {
        "id": "ZaaphqESvKJk",
        "colab_type": "text"
      },
      "source": [
        "### ***Important Notes:***\n",
        "\n",
        "\n",
        "\n",
        "1.   From above we see that we tried 3 different set of algorithms and also tried to handle imbalanced data issue by finding the accurate metrics to balance our data.\n",
        "2.   Primariy, we ran Linear Regression model where the roc_auc_score was ~70% and Precision and Recall was also quite balanced.\n",
        "3.   Secondarily, we tried to fit our data using Light GBM. We are using Light GBM because of the following below reasons and the roc_auc_score was  ~68%  with a decent balance between Precision and Recall but not that great as how Linear Regression model has fitted.\n",
        "\n",
        "\n",
        "              *   It has faster training speed and higher efficiency. We will get better accuracy.\n",
        "              *   It is capable of handling large-datasets and is almost 7 times faster than XGBoost.\n",
        "              *   Light GBM grows trees leaf-wise while other grows level-wise. And Leaf-wise algorithm can reduce more loss than a level-wise algorithm such as XGBoost.\n",
        "4.   Next we tried with GaussianNB model which is not as good as the above two models with roc_auc_score of ~58% and was not upto the mark as it didn't maitain a balance between metrics of Precision and Recall(recall being very low ~17%). We used Naive Bayes because of the below reasons:\n",
        "\n",
        "              *   It is easy and fast to predict class of test data set.\n",
        "              *   When assumption of independence holds, a Naive Bayes classifier performs better compare to other models like logistic regression\n",
        "\n",
        "\n",
        "\n",
        "\n",
        "**Hence by observing the metrics of all three models that we tried to build, its obvious that we would go with Linear Regression as there's a better balance between Precision and Recall (which helps us predict both target variables accurately) and also has a good roc_auc_score of ~70%.**\n",
        "\n",
        "\n",
        "\n",
        "\n"
      ]
    },
    {
      "cell_type": "markdown",
      "metadata": {
        "id": "kUz84amRBt6q",
        "colab_type": "text"
      },
      "source": [
        "# ***Lets build the model on entire training dataset*** \n",
        "***using Linear Regression***"
      ]
    },
    {
      "cell_type": "code",
      "metadata": {
        "id": "iAHdgD5mByqa",
        "colab_type": "code",
        "colab": {}
      },
      "source": [
        "X= train_file.drop(train_file.iloc[:,0:2], axis=1)\n",
        "Y= train_file['target']"
      ],
      "execution_count": null,
      "outputs": []
    },
    {
      "cell_type": "code",
      "metadata": {
        "id": "TAoNnZY8COvX",
        "colab_type": "code",
        "colab": {}
      },
      "source": [
        "lr= LogisticRegression(class_weight={0: 0.5558581894587052, 1: 4.975619464623346})  #These class weight ratio has been taken from the above where we calculated"
      ],
      "execution_count": null,
      "outputs": []
    },
    {
      "cell_type": "code",
      "metadata": {
        "id": "gMcxNLdCC4os",
        "colab_type": "code",
        "colab": {
          "base_uri": "https://localhost:8080/",
          "height": 271
        },
        "outputId": "24e7aaaf-45d5-4866-94a4-20a396c81754"
      },
      "source": [
        "lr.fit(X,Y)"
      ],
      "execution_count": null,
      "outputs": [
        {
          "output_type": "stream",
          "text": [
            "/usr/local/lib/python3.6/dist-packages/sklearn/linear_model/_logistic.py:940: ConvergenceWarning: lbfgs failed to converge (status=1):\n",
            "STOP: TOTAL NO. of ITERATIONS REACHED LIMIT.\n",
            "\n",
            "Increase the number of iterations (max_iter) or scale the data as shown in:\n",
            "    https://scikit-learn.org/stable/modules/preprocessing.html\n",
            "Please also refer to the documentation for alternative solver options:\n",
            "    https://scikit-learn.org/stable/modules/linear_model.html#logistic-regression\n",
            "  extra_warning_msg=_LOGISTIC_SOLVER_CONVERGENCE_MSG)\n"
          ],
          "name": "stderr"
        },
        {
          "output_type": "execute_result",
          "data": {
            "text/plain": [
              "LogisticRegression(C=1.0,\n",
              "                   class_weight={0: 0.5558581894587052, 1: 4.975619464623346},\n",
              "                   dual=False, fit_intercept=True, intercept_scaling=1,\n",
              "                   l1_ratio=None, max_iter=100, multi_class='auto', n_jobs=None,\n",
              "                   penalty='l2', random_state=None, solver='lbfgs', tol=0.0001,\n",
              "                   verbose=0, warm_start=False)"
            ]
          },
          "metadata": {
            "tags": []
          },
          "execution_count": 45
        }
      ]
    },
    {
      "cell_type": "code",
      "metadata": {
        "id": "72KZj63JDtcD",
        "colab_type": "code",
        "colab": {}
      },
      "source": [
        "test_file.drop(test_file.iloc[:,0:1], axis=1, inplace=True)"
      ],
      "execution_count": null,
      "outputs": []
    },
    {
      "cell_type": "code",
      "metadata": {
        "id": "zlvJla7YC8A-",
        "colab_type": "code",
        "colab": {}
      },
      "source": [
        "test_score= lr.predict_proba(test_file)[:,1]\n",
        "predicted= (test_score>mycutoff).astype(int)"
      ],
      "execution_count": null,
      "outputs": []
    },
    {
      "cell_type": "code",
      "metadata": {
        "id": "WyG9DjHCDeWS",
        "colab_type": "code",
        "colab": {
          "base_uri": "https://localhost:8080/",
          "height": 35
        },
        "outputId": "8dbf6c1d-8607-45c5-94f9-76239c8d4129"
      },
      "source": [
        "predicted"
      ],
      "execution_count": null,
      "outputs": [
        {
          "output_type": "execute_result",
          "data": {
            "text/plain": [
              "array([0, 0, 0, ..., 0, 0, 0])"
            ]
          },
          "metadata": {
            "tags": []
          },
          "execution_count": 48
        }
      ]
    },
    {
      "cell_type": "code",
      "metadata": {
        "id": "RGaaJeNXQhE7",
        "colab_type": "code",
        "colab": {}
      },
      "source": [
        "#Writing the target file...\n",
        "pd.DataFrame(predicted).to_csv('CustomerPrediction_Target.csv', index=False)"
      ],
      "execution_count": null,
      "outputs": []
    },
    {
      "cell_type": "markdown",
      "metadata": {
        "id": "5NgS-qclH1ba",
        "colab_type": "text"
      },
      "source": [
        "**Plotting Feature Importance plot**"
      ]
    },
    {
      "cell_type": "code",
      "metadata": {
        "id": "9CpQbu47HzmW",
        "colab_type": "code",
        "colab": {}
      },
      "source": [
        "#Importing required packages..\n",
        "from sklearn.ensemble import RandomForestClassifier"
      ],
      "execution_count": null,
      "outputs": []
    },
    {
      "cell_type": "code",
      "metadata": {
        "id": "XOMZmlzAIlfR",
        "colab_type": "code",
        "colab": {}
      },
      "source": [
        "rf = RandomForestClassifier(class_weight={0: 0.5558581894587052, 1: 4.975619464623346})"
      ],
      "execution_count": null,
      "outputs": []
    },
    {
      "cell_type": "code",
      "metadata": {
        "id": "HcklQ_VGFRqj",
        "colab_type": "code",
        "colab": {
          "base_uri": "https://localhost:8080/",
          "height": 199
        },
        "outputId": "1f7848a5-33fa-43c5-c495-b88382b79e3e"
      },
      "source": [
        "rf.fit(X, Y)"
      ],
      "execution_count": null,
      "outputs": [
        {
          "output_type": "execute_result",
          "data": {
            "text/plain": [
              "RandomForestClassifier(bootstrap=True, ccp_alpha=0.0,\n",
              "                       class_weight={0: 0.5558581894587052,\n",
              "                                     1: 4.975619464623346},\n",
              "                       criterion='gini', max_depth=None, max_features='auto',\n",
              "                       max_leaf_nodes=None, max_samples=None,\n",
              "                       min_impurity_decrease=0.0, min_impurity_split=None,\n",
              "                       min_samples_leaf=1, min_samples_split=2,\n",
              "                       min_weight_fraction_leaf=0.0, n_estimators=100,\n",
              "                       n_jobs=None, oob_score=False, random_state=None,\n",
              "                       verbose=0, warm_start=False)"
            ]
          },
          "metadata": {
            "tags": []
          },
          "execution_count": 51
        }
      ]
    },
    {
      "cell_type": "code",
      "metadata": {
        "id": "jWjfjosIJrWA",
        "colab_type": "code",
        "colab": {}
      },
      "source": [
        "feat_importance= pd.Series(rf.feature_importances_, index=X_train.columns)"
      ],
      "execution_count": null,
      "outputs": []
    },
    {
      "cell_type": "code",
      "metadata": {
        "id": "ByzXic8uL7vK",
        "colab_type": "code",
        "colab": {
          "base_uri": "https://localhost:8080/",
          "height": 1000
        },
        "outputId": "fc407266-347b-4474-ef9f-8d05cdc2516a"
      },
      "source": [
        "feat_importance.nlargest(200).plot(kind='barh', figsize=(15,20))\n",
        "plt.show()"
      ],
      "execution_count": null,
      "outputs": [
        {
          "output_type": "display_data",
          "data": {
            "image/png": "[encoded data removed]",
            "text/plain": [
              "<Figure size 1080x1440 with 1 Axes>"
            ]
          },
          "metadata": {
            "tags": [],
            "needs_background": "light"
          }
        }
      ]
    }
  ]
}